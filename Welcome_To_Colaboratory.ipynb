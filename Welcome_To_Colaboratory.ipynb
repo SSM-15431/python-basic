{
  "cells": [
    {
      "cell_type": "markdown",
      "metadata": {
        "id": "view-in-github",
        "colab_type": "text"
      },
      "source": [
        "<a href=\"https://colab.research.google.com/github/SSM-15431/python-basic/blob/main/Welcome_To_Colaboratory.ipynb\" target=\"_parent\"><img src=\"https://colab.research.google.com/assets/colab-badge.svg\" alt=\"Open In Colab\"/></a>"
      ]
    },
    {
      "cell_type": "code",
      "source": [
        "Print Data Type Example\n",
        "x = -1 #  int\n",
        "print(type(x))"
      ],
      "metadata": {
        "colab": {
          "base_uri": "https://localhost:8080/"
        },
        "id": "iXskjcyvBD_-",
        "outputId": "a6c81a41-6767-47b5-da5f-8c70871df599"
      },
      "execution_count": 4,
      "outputs": [
        {
          "output_type": "stream",
          "name": "stdout",
          "text": [
            "<class 'int'>\n"
          ]
        }
      ]
    },
    {
      "cell_type": "code",
      "source": [
        "#List Data Type example\n",
        "list = [123, \"abcd\", 10.2]\n",
        "list1 = [\"hello\"]\n",
        "print(type(list))\n",
        "print(list)\n",
        "print(list[0:2])\n",
        "print(list[1])\n",
        "print(list*2)\n",
        "print(list+list1)\n",
        "print(*list)\n",
        "print(list[1],list[2])\n",
        "list1[0]=\"I am student\"\n",
        "print(list1)"
      ],
      "metadata": {
        "colab": {
          "base_uri": "https://localhost:8080/"
        },
        "id": "50GbDnuENIkV",
        "outputId": "de623587-2b3f-449a-b767-469bd7f371de"
      },
      "execution_count": 18,
      "outputs": [
        {
          "output_type": "stream",
          "name": "stdout",
          "text": [
            "<class 'list'>\n",
            "[123, 'abcd', 10.2]\n",
            "[123, 'abcd']\n",
            "abcd\n",
            "[123, 'abcd', 10.2, 123, 'abcd', 10.2]\n",
            "[123, 'abcd', 10.2, 'hello']\n",
            "123 abcd 10.2\n",
            "abcd 10.2\n",
            "['I am student']\n"
          ]
        }
      ]
    },
    {
      "cell_type": "code",
      "source": [
        "#Tuple Data Type (immutable) Example\n",
        "tuple1=(123,\"hello\")\n",
        "tuple1[0]=55\n",
        "print(tuple1)"
      ],
      "metadata": {
        "colab": {
          "base_uri": "https://localhost:8080/",
          "height": 200
        },
        "id": "-VjSiYVcSWNL",
        "outputId": "c5f8baf8-76bc-46f9-f6d6-4e18d828a7f6"
      },
      "execution_count": 19,
      "outputs": [
        {
          "output_type": "error",
          "ename": "TypeError",
          "evalue": "'tuple' object does not support item assignment",
          "traceback": [
            "\u001b[0;31m---------------------------------------------------------------------------\u001b[0m",
            "\u001b[0;31mTypeError\u001b[0m                                 Traceback (most recent call last)",
            "\u001b[0;32m<ipython-input-19-a639fb00ba38>\u001b[0m in \u001b[0;36m<cell line: 3>\u001b[0;34m()\u001b[0m\n\u001b[1;32m      1\u001b[0m \u001b[0;31m#Tuple Data Type\u001b[0m\u001b[0;34m\u001b[0m\u001b[0;34m\u001b[0m\u001b[0m\n\u001b[1;32m      2\u001b[0m \u001b[0mtuple1\u001b[0m\u001b[0;34m=\u001b[0m\u001b[0;34m(\u001b[0m\u001b[0;36m123\u001b[0m\u001b[0;34m,\u001b[0m\u001b[0;34m\"hello\"\u001b[0m\u001b[0;34m)\u001b[0m\u001b[0;34m\u001b[0m\u001b[0;34m\u001b[0m\u001b[0m\n\u001b[0;32m----> 3\u001b[0;31m \u001b[0mtuple1\u001b[0m\u001b[0;34m[\u001b[0m\u001b[0;36m0\u001b[0m\u001b[0;34m]\u001b[0m\u001b[0;34m=\u001b[0m\u001b[0;36m55\u001b[0m\u001b[0;34m\u001b[0m\u001b[0;34m\u001b[0m\u001b[0m\n\u001b[0m\u001b[1;32m      4\u001b[0m \u001b[0mprint\u001b[0m\u001b[0;34m(\u001b[0m\u001b[0mtuple1\u001b[0m\u001b[0;34m)\u001b[0m\u001b[0;34m\u001b[0m\u001b[0;34m\u001b[0m\u001b[0m\n",
            "\u001b[0;31mTypeError\u001b[0m: 'tuple' object does not support item assignment"
          ]
        }
      ]
    },
    {
      "cell_type": "code",
      "source": [
        "#Set Data Type Example\n",
        "basket ={\"apple\", \"orange\", 55, 55}\n",
        "print(basket)\n",
        "a = set(\"abcdefg\")\n",
        "print(a)\n",
        "a.add(9)\n",
        "print(a)"
      ],
      "metadata": {
        "colab": {
          "base_uri": "https://localhost:8080/"
        },
        "id": "am8Xq1zCTDqz",
        "outputId": "b237b9cb-dc6a-4e7e-d479-2166a9c6f87d"
      },
      "execution_count": 22,
      "outputs": [
        {
          "output_type": "stream",
          "name": "stdout",
          "text": [
            "{55, 'orange', 'apple'}\n",
            "{'e', 'g', 'b', 'c', 'f', 'd', 'a'}\n",
            "{'e', 9, 'g', 'b', 'c', 'f', 'd', 'a'}\n"
          ]
        }
      ]
    },
    {
      "cell_type": "code",
      "source": [
        "#Frozen Set Data Type Example\n",
        "b =frozenset(\"asdfagsa\")\n",
        "print(b)\n",
        ">frozenset({\"f\",\"g\",\"d\",\"a\",\"s\"})\n",
        "cities =frozenset([\"Frankfurt\", \"Basel\",\"Freiburg\"])\n",
        "print(cities)"
      ],
      "metadata": {
        "colab": {
          "base_uri": "https://localhost:8080/",
          "height": 109
        },
        "id": "xJSROfBbUP4Z",
        "outputId": "ae1b3c3d-97c7-4c18-a91b-e184d5d74ed2"
      },
      "execution_count": 24,
      "outputs": [
        {
          "output_type": "error",
          "ename": "SyntaxError",
          "evalue": "invalid syntax (<ipython-input-24-871da7515038>, line 4)",
          "traceback": [
            "\u001b[0;36m  File \u001b[0;32m\"<ipython-input-24-871da7515038>\"\u001b[0;36m, line \u001b[0;32m4\u001b[0m\n\u001b[0;31m    >frozenset({\"f\",\"g\",\"d\",\"a\",\"s\"})\u001b[0m\n\u001b[0m    ^\u001b[0m\n\u001b[0;31mSyntaxError\u001b[0m\u001b[0;31m:\u001b[0m invalid syntax\n"
          ]
        }
      ]
    },
    {
      "cell_type": "code",
      "source": [
        "#Dictionary Data Type (Cont'd) Example\n",
        "dic ={\"name\":\"SSM\",\"age\":20}\n",
        "print(dic)\n",
        "print(dic.values())\n",
        "print(dic.keys())"
      ],
      "metadata": {
        "colab": {
          "base_uri": "https://localhost:8080/"
        },
        "id": "O7usmKL1ayth",
        "outputId": "7f34dadf-f67a-40ff-c683-23674f8d220e"
      },
      "execution_count": 29,
      "outputs": [
        {
          "output_type": "stream",
          "name": "stdout",
          "text": [
            "{'name': 'SSM', 'age': 20}\n",
            "dict_values(['SSM', 20])\n",
            "dict_keys(['name', 'age'])\n"
          ]
        }
      ]
    },
    {
      "cell_type": "code",
      "source": [
        "#Boolean Data Type Example\n",
        ">>> b =True\n",
        ">>> print(b)\n",
        ">>> c =False\n",
        ">>> print(b,c)\n"
      ],
      "metadata": {
        "colab": {
          "base_uri": "https://localhost:8080/"
        },
        "id": "zG-Ws6u1dl_9",
        "outputId": "42aff553-df47-43c0-be40-b581cf791655"
      },
      "execution_count": 58,
      "outputs": [
        {
          "output_type": "stream",
          "name": "stdout",
          "text": [
            "True\n",
            "True False\n"
          ]
        }
      ]
    },
    {
      "cell_type": "code",
      "source": [
        "#Binary Data Types Example\n",
        "x = bytes(10)\n",
        "print(x)\n",
        "x = bytearray(10)\n",
        "print(x)\n",
        "x = memoryview(bytes(10))\n",
        "print"
      ],
      "metadata": {
        "colab": {
          "base_uri": "https://localhost:8080/"
        },
        "id": "yrL-MoH7eezt",
        "outputId": "5b1cd2d5-3120-4ee1-fb0f-4337f68c6e8d"
      },
      "execution_count": 37,
      "outputs": [
        {
          "output_type": "stream",
          "name": "stdout",
          "text": [
            "b'\\x00\\x00\\x00\\x00\\x00\\x00\\x00\\x00\\x00\\x00'\n",
            "bytearray(b'\\x00\\x00\\x00\\x00\\x00\\x00\\x00\\x00\\x00\\x00')\n",
            "<memory at 0x7fb4287b7100>\n"
          ]
        }
      ]
    },
    {
      "cell_type": "code",
      "source": [
        "#String Data Type (Cont'd) Example\n",
        "a_str = \"Hello World\"\n",
        "print(a_str)\n",
        "print(a_str[0])\n",
        "print(a_str[0:5])\n",
        "print(\"hello\"+\"world\")\n",
        "print(\"hello\"*3)\n",
        "print(\"hello\"[0])\n",
        "print(\"hello\"[-1])\n",
        "print(\"hello\"[1:4])\n",
        "print(len(\"hello\"))\n",
        "print(\"hello\"<\"jello\")\n",
        "print(\"e\"in\"hello\")\n",
        "\"escapes:\\n etc,\\033 etc,\\if etc\"\n",
        "a = \"\"\"you can display a string literal, a multiline string to a variable\"\"\"\n",
        "print(a)"
      ],
      "metadata": {
        "colab": {
          "base_uri": "https://localhost:8080/"
        },
        "id": "X-psnNdRgpku",
        "outputId": "1687427a-29b3-4549-f5e1-5ad6c1e28f7d"
      },
      "execution_count": 4,
      "outputs": [
        {
          "output_type": "stream",
          "name": "stdout",
          "text": [
            "Hello World\n",
            "H\n",
            "Hello\n",
            "helloworld\n",
            "hellohellohello\n",
            "h\n",
            "o\n",
            "ell\n",
            "5\n",
            "True\n",
            "True\n",
            "you can display a string literal, a multiline string to a variable\n"
          ]
        }
      ]
    },
    {
      "cell_type": "code",
      "source": [
        "a,b=5,15\n",
        "a+b\n",
        "result = a + b\n",
        "print(result)"
      ],
      "metadata": {
        "colab": {
          "base_uri": "https://localhost:8080/"
        },
        "id": "6gBWi6z5bhKm",
        "outputId": "57177932-4ea4-4dea-afd3-35efaa529811"
      },
      "execution_count": 16,
      "outputs": [
        {
          "output_type": "stream",
          "name": "stdout",
          "text": [
            "20\n"
          ]
        }
      ]
    },
    {
      "cell_type": "code",
      "source": [
        "a,b=5,15\n",
        "a+=b\n",
        "print(a)"
      ],
      "metadata": {
        "id": "amBPQJDwd7I-",
        "colab": {
          "base_uri": "https://localhost:8080/"
        },
        "outputId": "1edeb5be-bab4-4f84-8b6f-c452faa161e7"
      },
      "execution_count": 17,
      "outputs": [
        {
          "output_type": "stream",
          "name": "stdout",
          "text": [
            "20\n"
          ]
        }
      ]
    },
    {
      "cell_type": "code",
      "source": [
        "#import operator\n",
        "x,y = 100,150\n",
        "operator.add(x,y)\n",
        "operator.add(x,y)"
      ],
      "metadata": {
        "colab": {
          "base_uri": "https://localhost:8080/"
        },
        "id": "KmsiEHO1cKV0",
        "outputId": "d025ce20-9c9e-4d7b-deb2-c9b9c60548c3"
      },
      "execution_count": 13,
      "outputs": [
        {
          "output_type": "execute_result",
          "data": {
            "text/plain": [
              "250"
            ]
          },
          "metadata": {},
          "execution_count": 13
        }
      ]
    },
    {
      "cell_type": "code",
      "source": [
        "a,b=5,15\n",
        "a+b\n",
        "result = a % b\n",
        "print(result)"
      ],
      "metadata": {
        "colab": {
          "base_uri": "https://localhost:8080/"
        },
        "id": "9LQwnHIydhUb",
        "outputId": "2ad25761-be96-426d-d095-9e37d71fc254"
      },
      "execution_count": 14,
      "outputs": [
        {
          "output_type": "stream",
          "name": "stdout",
          "text": [
            "5\n"
          ]
        }
      ]
    },
    {
      "cell_type": "code",
      "source": [
        "a,b,c,d = 1, 2, 3, 4\n",
        "d/a+b*c"
      ],
      "metadata": {
        "colab": {
          "base_uri": "https://localhost:8080/"
        },
        "id": "Da0y_iBScq6P",
        "outputId": "f37f7e5c-786c-4181-e52e-b34e6468d5fd"
      },
      "execution_count": 18,
      "outputs": [
        {
          "output_type": "execute_result",
          "data": {
            "text/plain": [
              "10.0"
            ]
          },
          "metadata": {},
          "execution_count": 18
        }
      ]
    },
    {
      "cell_type": "code",
      "source": [
        "a,b,c,d = 1, 2, 3, 4\n",
        "d//a**b+c-d*b"
      ],
      "metadata": {
        "colab": {
          "base_uri": "https://localhost:8080/"
        },
        "id": "h0RFwCk8h0dm",
        "outputId": "af3b6ab1-8f58-4d99-c205-145f71bc85e6"
      },
      "execution_count": 19,
      "outputs": [
        {
          "output_type": "execute_result",
          "data": {
            "text/plain": [
              "-1"
            ]
          },
          "metadata": {},
          "execution_count": 19
        }
      ]
    },
    {
      "cell_type": "code",
      "source": [
        "x = int(1.5)\n",
        "print (x)"
      ],
      "metadata": {
        "colab": {
          "base_uri": "https://localhost:8080/"
        },
        "id": "ELdZCVk3jJcS",
        "outputId": "c5e7f2f9-0268-434b-9430-c9ab6fbbfda0"
      },
      "execution_count": 24,
      "outputs": [
        {
          "output_type": "stream",
          "name": "stdout",
          "text": [
            "1\n"
          ]
        }
      ]
    },
    {
      "cell_type": "code",
      "source": [
        "x = str(5)\n",
        "x+=x\n",
        "print (x)"
      ],
      "metadata": {
        "colab": {
          "base_uri": "https://localhost:8080/"
        },
        "id": "_Nbl5bJvjpXN",
        "outputId": "51fd2fb4-c62e-42ff-cd0a-6de43613b908"
      },
      "execution_count": 26,
      "outputs": [
        {
          "output_type": "stream",
          "name": "stdout",
          "text": [
            "55\n"
          ]
        }
      ]
    },
    {
      "cell_type": "code",
      "source": [
        "\n",
        "num1 =int(input(\"Enter first number\"))\n",
        "num2 =int(input(\"Enter second number\"))\n",
        "#Add two numbers\n",
        "sum = float(num1) + float(num2)\n",
        "#Display the sum\n",
        "print(\"The sum of num1 and num2 is :\",sum)"
      ],
      "metadata": {
        "colab": {
          "base_uri": "https://localhost:8080/"
        },
        "id": "WTzx0xM_lQ8D",
        "outputId": "d0cce8be-8e08-4cb3-fa4a-74681042b44d"
      },
      "execution_count": 29,
      "outputs": [
        {
          "output_type": "stream",
          "name": "stdout",
          "text": [
            "Enter first number5\n",
            "Enter second number5\n",
            "The sum of num1 and num2 is : 10.0\n"
          ]
        }
      ]
    },
    {
      "cell_type": "code",
      "source": [
        "num1 =int(input(\"Enter first number\"))\n",
        "num2 =int(input(\"Enter second number\"))\n",
        "#Add two numbers\n",
        "sum = float(num1) + float(num2)\n",
        "#Display the sum\n",
        "print(\"The sum of num1 and num2 is :\",sum)"
      ],
      "metadata": {
        "colab": {
          "base_uri": "https://localhost:8080/"
        },
        "id": "4SiDRxSklsh-",
        "outputId": "dda2cfd8-45f7-4d38-afed-f87fc0855189"
      },
      "execution_count": 30,
      "outputs": [
        {
          "output_type": "stream",
          "name": "stdout",
          "text": [
            "Enter first number1\n",
            "Enter second number1\n",
            "The sum of num1 and num2 is : 2.0\n"
          ]
        }
      ]
    },
    {
      "cell_type": "code",
      "source": [
        "#Python Program to find perimeter of a circle using Diameter\n",
        "pi = 3.14\n",
        "diameter = int(input(\"Enter the diameter of the circle\"))\n",
        "radius = diameter/2\n",
        "perimeter = 2 * pi * radius\n",
        "print(\"Perimeter of circle is:\", perimeter)"
      ],
      "metadata": {
        "colab": {
          "base_uri": "https://localhost:8080/"
        },
        "id": "c2JLmew0mVCQ",
        "outputId": "d37258f9-6b87-4dab-94c0-a6433b0fa6b4"
      },
      "execution_count": 31,
      "outputs": [
        {
          "output_type": "stream",
          "name": "stdout",
          "text": [
            "Enter the diameter of the circle30\n",
            "Perimeter of circle is: 94.2\n"
          ]
        }
      ]
    },
    {
      "cell_type": "code",
      "source": [
        "#If Statement\n",
        "a = 55\n",
        "b = 65\n",
        "if b>a:\n",
        "  print(\"b is greather than a\")"
      ],
      "metadata": {
        "colab": {
          "base_uri": "https://localhost:8080/"
        },
        "id": "ElDZCfRcozmK",
        "outputId": "720924a2-26f4-4841-9356-35363c4dba3f"
      },
      "execution_count": 33,
      "outputs": [
        {
          "output_type": "stream",
          "name": "stdout",
          "text": [
            "b is greather than a\n"
          ]
        }
      ]
    },
    {
      "cell_type": "code",
      "source": [
        "#If Statement\n",
        "a = 55\n",
        "b = 20\n",
        "if b>a:\n",
        "  print(\"b is greather than a\")"
      ],
      "metadata": {
        "id": "0ZvIbssUqbyh"
      },
      "execution_count": 34,
      "outputs": []
    },
    {
      "cell_type": "code",
      "source": [
        "name = \"SMM\"\n",
        "if name==(\"Hello\",name):\n",
        "  print(\"Hello\", name)"
      ],
      "metadata": {
        "id": "6CogyB5eqsq6"
      },
      "execution_count": 37,
      "outputs": []
    },
    {
      "cell_type": "code",
      "source": [
        "#If Else Statement\n",
        "a = 200\n",
        "b = 5\n",
        "if b>a:\n",
        "  print(\"b is greater than a\")\n",
        "else:\n",
        "  print(\"a is greather than a\")"
      ],
      "metadata": {
        "colab": {
          "base_uri": "https://localhost:8080/"
        },
        "id": "ZMkwApCkqkEv",
        "outputId": "6e125fd9-d777-4d29-b407-7d71979f46af"
      },
      "execution_count": 40,
      "outputs": [
        {
          "output_type": "stream",
          "name": "stdout",
          "text": [
            "a is greather than a\n"
          ]
        }
      ]
    },
    {
      "cell_type": "code",
      "source": [
        "#If Else Elif Statement\n",
        "a = 200\n",
        "b = 5\n",
        "if b>a:\n",
        "  print(\"b is greater than a\")\n",
        "elif a==b:\n",
        "  print(\"a and b are equal\")\n",
        "else:\n",
        "  print(\"a is greather than b\")"
      ],
      "metadata": {
        "colab": {
          "base_uri": "https://localhost:8080/"
        },
        "id": "s4x2xauXsDEl",
        "outputId": "cf1e9e06-5409-439c-b637-3b16ada86b71"
      },
      "execution_count": 45,
      "outputs": [
        {
          "output_type": "stream",
          "name": "stdout",
          "text": [
            "a is greather than b\n"
          ]
        }
      ]
    },
    {
      "cell_type": "code",
      "source": [
        "#Example project of if, elif and else\n",
        "print(\"Enter Marks Obtained in 3 subjects\")\n",
        "total = 68\n",
        "total = 75\n",
        "total = 40\n",
        "total = total + total + total\n",
        "avg = total/3\n",
        "if avg >=91 and avg <= 100:\n",
        "  print(\"Your Grade is A1\")\n",
        "elif avg >=81 and avg < 91:\n",
        "  print(\"Your Grade is A2\")\n",
        "else:\n",
        "  print(\"Your Grade is A3\")"
      ],
      "metadata": {
        "colab": {
          "base_uri": "https://localhost:8080/"
        },
        "id": "jgI9APMlsLXu",
        "outputId": "816a3d5b-d09d-4f68-8783-06257253eaec"
      },
      "execution_count": 48,
      "outputs": [
        {
          "output_type": "stream",
          "name": "stdout",
          "text": [
            "Enter Marks Obtained in 3 subjects\n",
            "Your Grade is A3\n"
          ]
        }
      ]
    },
    {
      "cell_type": "code",
      "source": [
        "#Nested If\n",
        "x = 41\n",
        "if x>10:\n",
        "  print(\"above ten\")\n",
        "if x>20:\n",
        "  print(\"and also above 20\")\n",
        "else:\n",
        "  print(\"but not above 20\")"
      ],
      "metadata": {
        "colab": {
          "base_uri": "https://localhost:8080/"
        },
        "id": "aipREFlOxds3",
        "outputId": "dfbbe650-f157-4897-8c78-e0f0adceb5cd"
      },
      "execution_count": 56,
      "outputs": [
        {
          "output_type": "stream",
          "name": "stdout",
          "text": [
            "above ten\n",
            "and also above 20\n"
          ]
        }
      ]
    }
  ],
  "metadata": {
    "colab": {
      "name": "Welcome To Colaboratory",
      "provenance": [],
      "include_colab_link": true
    },
    "kernelspec": {
      "display_name": "Python 3",
      "name": "python3"
    }
  },
  "nbformat": 4,
  "nbformat_minor": 0
}